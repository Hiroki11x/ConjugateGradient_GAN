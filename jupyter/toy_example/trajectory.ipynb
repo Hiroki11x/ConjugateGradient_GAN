{
 "cells": [
  {
   "cell_type": "code",
   "execution_count": null,
   "metadata": {},
   "outputs": [],
   "source": [
    "import numpy as np\n",
    "import torch\n",
    "import matplotlib.pyplot as plt\n",
    "from matplotlib import cm\n",
    "from set_optimizer import build_optimizer, OptimizerSetting"
   ]
  },
  {
   "cell_type": "code",
   "execution_count": null,
   "metadata": {},
   "outputs": [],
   "source": [
    "\n",
    "init_x = 2.0\n",
    "init_y = -4.0\n",
    "n_iter = 400"
   ]
  },
  {
   "cell_type": "markdown",
   "metadata": {},
   "source": [
    "# Main Function"
   ]
  },
  {
   "cell_type": "code",
   "execution_count": null,
   "metadata": {},
   "outputs": [],
   "source": [
    "def run(init_x, init_y, lr_x, lr_y, n_iterm, optim_name):\n",
    "    # x, y Initialize\n",
    "    x = torch.tensor(init_x, requires_grad = True)\n",
    "    y = torch.tensor(init_y, requires_grad = True)\n",
    "\n",
    "    # Objective\n",
    "    obj = (1 + x**2) * (100 - y**2)\n",
    "\n",
    "    if 'cgd' in optim_name:\n",
    "        beta_update_rule = optim_name.split('_')[1]\n",
    "        beta_momentum_coeff = float(optim_name.split('_')[2])\n",
    "        optim_name = optim_name.split('_')[0]\n",
    "    else:\n",
    "        beta_update_rule = None\n",
    "        beta_momentum_coeff = None\n",
    "\n",
    "    #CGD\n",
    "    optimizer_x = build_optimizer(\n",
    "            OptimizerSetting(name=optim_name,\n",
    "                            weight_decay = 0,\n",
    "                            lr=lr_x,\n",
    "                            momentum = 0.5,\n",
    "                            beta_update_rule=beta_update_rule,\n",
    "                            beta_momentum_coeff = beta_momentum_coeff,\n",
    "                            model=[x]))\n",
    "    \n",
    "    optimizer_y = build_optimizer(\n",
    "            OptimizerSetting(name=optim_name,\n",
    "                            weight_decay = 0,\n",
    "                            lr=lr_y,\n",
    "                            momentum = 0.5,\n",
    "                            beta_update_rule=beta_update_rule,\n",
    "                            beta_momentum_coeff = beta_momentum_coeff,\n",
    "                            model=[y]))\n",
    "    optimizer_y.param_groups[0]['lr'] *= -1 \n",
    "    \n",
    "    lr_schedule_x = torch.optim.lr_scheduler.LambdaLR(optimizer_x, lr_lambda = lambda steps: 1)\n",
    "    lr_schedule_y = torch.optim.lr_scheduler.LambdaLR(optimizer_y, lr_lambda = lambda steps: 1)\n",
    "\n",
    "    x_hist = []\n",
    "    y_hist = []\n",
    "    obj_list = []\n",
    "    norm_list = []\n",
    "\n",
    "    for i in range(n_iter):\n",
    "\n",
    "        obj = (1 + x**2) * (100 - y**2)\n",
    "        obj.backward()\n",
    "        optimizer_x.step()\n",
    "        lr_schedule_x.step()\n",
    "\n",
    "        obj = (1 + x**2) * (100 - y**2)\n",
    "        obj.backward()\n",
    "        optimizer_y.step() \n",
    "        lr_schedule_y.step()\n",
    "\n",
    "        np_x = x.detach().numpy()\n",
    "        np_y = y.detach().numpy()\n",
    "\n",
    "        norm = np.sqrt(np_x ** 2 + np_y ** 2)\n",
    "        obj = (1 + x**2) * (100 - y**2)\n",
    "\n",
    "        x_hist.append(np_x.copy())\n",
    "        y_hist.append(np_y.copy())\n",
    "        obj_list.append(obj.detach().numpy())\n",
    "        norm_list.append(norm)\n",
    "\n",
    "    print (x, y, obj, norm)\n",
    "    return x_hist, y_hist, obj_list, norm_list"
   ]
  },
  {
   "cell_type": "markdown",
   "metadata": {},
   "source": [
    "# Plotter"
   ]
  },
  {
   "cell_type": "markdown",
   "metadata": {},
   "source": [
    "## 2D"
   ]
  },
  {
   "cell_type": "code",
   "execution_count": null,
   "metadata": {},
   "outputs": [],
   "source": [
    "def plot_trajectory_2D(res_list:list, optim_name_list:list, lr_x, lr_y):\n",
    "\n",
    "    cmap_label = cm.get_cmap('tab10',len(res_list))\n",
    "\n",
    "    fig = plt.figure(figsize=[22, 5])\n",
    "    ax =  fig.subplots(1, 3)\n",
    "\n",
    "    counter = 0\n",
    "    for res, optim_name in zip(res_list, optim_name_list):\n",
    "\n",
    "        ax[0].plot(res[2], color=cmap_label(counter), label=f'{optim_name}')\n",
    "        ax[1].plot(res[3], color=cmap_label(counter), label=f'{optim_name}')\n",
    "\n",
    "        ax[2].scatter(res[0], res[1], s=1, alpha=1.0, c=cmap_label(counter), label=f'{optim_name}')\n",
    "\n",
    "        ax[0].set_title(\"objective\")\n",
    "        ax[0].set_xlabel('steps')\n",
    "        \n",
    "        ax[1].set_title(\"norms\")\n",
    "        ax[1].set_xlabel('steps')\n",
    "\n",
    "        ax[2].set_title(\"x vs y\")\n",
    "        ax[2].set_xlabel('x')\n",
    "        ax[2].set_ylabel('y')\n",
    "\n",
    "        counter+=1\n",
    "        \n",
    "    ax[0].legend()\n",
    "    \n",
    "    plt.savefig(f'../figs/toy_example/2D_{lr_x}_{lr_y}.pdf')\n",
    "    plt.show()"
   ]
  },
  {
   "cell_type": "markdown",
   "metadata": {},
   "source": [
    "## 3D"
   ]
  },
  {
   "cell_type": "code",
   "execution_count": null,
   "metadata": {},
   "outputs": [],
   "source": [
    "def plot_trajectory_3D(res_list:list, optim_name_list:list, lr_x, lr_y):\n",
    "\n",
    "    cmap_label = cm.get_cmap('tab10',len(res_list))\n",
    "\n",
    "    fig = plt.figure(figsize=[14,10])\n",
    "    ax = fig.add_subplot(projection='3d')\n",
    "\n",
    "    x = np.arange(-2.5, 2.5, 0.25)\n",
    "    y = np.arange(-12, 12, 0.25)\n",
    "\n",
    "    X, Y = np.meshgrid(x, y)\n",
    "    Z = (1 + X**2) * (100 - Y**2)\n",
    "\n",
    "    ax.plot_surface(X,Y,Z, cmap=cm.viridis, alpha=0.7)\n",
    "    ax.scatter(0, 0, 100,marker='*', c='black', s=50, label='saddle point')\n",
    "    ax.scatter(res_list[0][0][0], res_list[0][1][0], res_list[0][2][0],marker='+', c='black', s=50, label='start point')\n",
    "\n",
    "    counter = 0\n",
    "    for res, optim_name in zip(res_list, optim_name_list):\n",
    "\n",
    "        ax.plot(res[0], res[1], res[2], markersize=10, alpha=1, c=cmap_label(counter), label=f'{optim_name}')\n",
    "        ax.scatter(res[0][-1], res[1][-1], res[2][-1],marker='*', s=50, c=cmap_label(counter), label=f'end point of {optim_name}')\n",
    "\n",
    "        counter += 1\n",
    "\n",
    "    plt.legend(loc='upper right', fontsize=12)\n",
    "    angle = 60\n",
    "    ax.view_init(elev=angle, azim=240)\n",
    "    obj_caption = r'$f(x,y) = (1+x^2) \\cdot (100-y^2)$'\n",
    "    plt.xlim(-3,3)\n",
    "    plt.ylim(-15,15)\n",
    "    ax.set_zlim(-300,700)\n",
    "\n",
    "    ax.set_xlabel('X')\n",
    "    ax.set_ylabel('Y')\n",
    "    ax.set_zlabel('Z')\n",
    "    plt.savefig(f'../figs/toy_example/3D_{lr_x}_{lr_y}.pdf')\n",
    "    plt.show()\n"
   ]
  },
  {
   "cell_type": "markdown",
   "metadata": {},
   "source": [
    "# Call Plot Function"
   ]
  },
  {
   "cell_type": "code",
   "execution_count": null,
   "metadata": {},
   "outputs": [],
   "source": [
    "res_list =[ ]\n",
    "optim_names = ['vanilla_sgd', 'momentum_sgd', 'cgd_FR_0.5', 'cgd_FR_1.0', 'cgd_PRP_0.5', 'cgd_PRP_1.0']\n",
    "\n",
    "\n",
    "lr_x_list = [0.000005, 0.00001, 0.000025, 0.00005]\n",
    "lr_y_list = [0.000005, 0.00001, 0.000025, 0.00005]\n",
    "\n",
    "res_list =[ ]\n",
    "counter = 0\n",
    "n_iter = 400\n",
    "\n",
    "for lr_x in lr_x_list:\n",
    "    for lr_y in lr_y_list:\n",
    "        res_list =[ ]\n",
    "        for optim_name in optim_names:\n",
    "\n",
    "            print(optim_name)\n",
    "            res = run(init_x, init_y, lr_x, lr_y, n_iter, optim_name)\n",
    "            res_list.append(res)\n",
    "\n",
    "        plot_trajectory_2D(res_list, optim_names, lr_x, lr_y)\n",
    "        plot_trajectory_3D(res_list, optim_names, lr_x, lr_y)"
   ]
  },
  {
   "cell_type": "code",
   "execution_count": null,
   "metadata": {},
   "outputs": [],
   "source": []
  }
 ],
 "metadata": {
  "interpreter": {
   "hash": "5f7dd1d9595f4b3d9b3107f685df515d2268dd469c8f454dc2b0b529c93d9b5d"
  },
  "kernelspec": {
   "display_name": "Python 3.9.5 64-bit ('3.9.5')",
   "language": "python",
   "name": "python3"
  },
  "language_info": {
   "codemirror_mode": {
    "name": "ipython",
    "version": 3
   },
   "file_extension": ".py",
   "mimetype": "text/x-python",
   "name": "python",
   "nbconvert_exporter": "python",
   "pygments_lexer": "ipython3",
   "version": "3.9.5"
  },
  "orig_nbformat": 4
 },
 "nbformat": 4,
 "nbformat_minor": 2
}
